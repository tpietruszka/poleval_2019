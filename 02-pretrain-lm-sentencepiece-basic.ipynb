{
 "cells": [
  {
   "cell_type": "code",
   "execution_count": 1,
   "metadata": {},
   "outputs": [],
   "source": [
    "from fastai.text import * "
   ]
  },
  {
   "cell_type": "code",
   "execution_count": 2,
   "metadata": {},
   "outputs": [],
   "source": [
    "from ulmfit_experiments import experiments\n",
    "from ulmfit_experiments import sentencepiece_tok as spm"
   ]
  },
  {
   "cell_type": "markdown",
   "metadata": {},
   "source": [
    "# TODO: at each epoch re-generate tokens with some randomness?\n",
    "# TODO: pre-tokenize, mark case, join before SP?\n",
    "# TODO: try SGD instead of Adam, experiment with bigger batches"
   ]
  },
  {
   "cell_type": "code",
   "execution_count": 3,
   "metadata": {},
   "outputs": [],
   "source": [
    "unsup_path = '/home/tomasz/nlp/poleval/csv/unsup.csv'"
   ]
  },
  {
   "cell_type": "code",
   "execution_count": 4,
   "metadata": {},
   "outputs": [],
   "source": [
    "model_dir='/home/tomasz/nlp/poleval/csv/spm'\n",
    "csv_dir = Path('/home/tomasz/nlp/poleval/csv/')"
   ]
  },
  {
   "cell_type": "code",
   "execution_count": 17,
   "metadata": {},
   "outputs": [],
   "source": [
    "bs = 40"
   ]
  },
  {
   "cell_type": "code",
   "execution_count": 5,
   "metadata": {},
   "outputs": [],
   "source": [
    "spm.train_tokenizer(unsup_path, model_dir)"
   ]
  },
  {
   "cell_type": "code",
   "execution_count": 6,
   "metadata": {},
   "outputs": [],
   "source": [
    "tok, vocab = spm.load_tokenizer(model_dir)"
   ]
  },
  {
   "cell_type": "code",
   "execution_count": 7,
   "metadata": {},
   "outputs": [
    {
     "data": {
      "text/plain": [
       "['<unk>',\n",
       " 'xxbos',\n",
       " 'xxpad',\n",
       " '@anonymized_account',\n",
       " '@url',\n",
       " 'ie',\n",
       " '▁n',\n",
       " '▁p',\n",
       " '▁t',\n",
       " '▁s']"
      ]
     },
     "execution_count": 7,
     "metadata": {},
     "output_type": "execute_result"
    }
   ],
   "source": [
    "vocab.itos[:10]"
   ]
  },
  {
   "cell_type": "code",
   "execution_count": 11,
   "metadata": {},
   "outputs": [],
   "source": [
    "df = pd.read_csv(unsup_path, names=['labels', 'texts'], engine='python')\n",
    "df = df.loc[df.texts.notnull()]"
   ]
  },
  {
   "cell_type": "code",
   "execution_count": null,
   "metadata": {},
   "outputs": [],
   "source": []
  },
  {
   "cell_type": "code",
   "execution_count": 12,
   "metadata": {},
   "outputs": [],
   "source": [
    "val_split = int(len(df)*0.9)"
   ]
  },
  {
   "cell_type": "code",
   "execution_count": 13,
   "metadata": {},
   "outputs": [],
   "source": [
    "trn_df = df.iloc[:val_split]\n",
    "val_df = df.iloc[val_split:]"
   ]
  },
  {
   "cell_type": "code",
   "execution_count": 36,
   "metadata": {},
   "outputs": [],
   "source": [
    "# tok.process_all([trn_df.iloc[1, 1]])"
   ]
  },
  {
   "cell_type": "code",
   "execution_count": 18,
   "metadata": {},
   "outputs": [],
   "source": [
    "data_lm = TextLMDataBunch.from_df(path=csv_dir, train_df=trn_df, valid_df=val_df, bs=bs, text_cols='texts', tokenizer = tok, vocab=vocab)"
   ]
  },
  {
   "cell_type": "code",
   "execution_count": 19,
   "metadata": {},
   "outputs": [
    {
     "data": {
      "text/html": [
       "<table>  <col width='5%'>  <col width='95%'>  <tr>\n",
       "    <th>idx</th>\n",
       "    <th>text</th>\n",
       "  </tr>\n",
       "  <tr>\n",
       "    <th>0</th>\n",
       "    <th>▁spać ▁ale ▁mi ▁się ▁chce ▁O ▁K ▁E ▁J ▁ xxbos ▁Na ▁razie ▁tempo ▁mocno ▁waka cyjne . ▁Roma ▁na ▁sto jaka . ▁Halo ▁TT , ▁ktoś ▁wytrzymał ▁do ▁przerwy ? ▁😅 # Ro ma PS G ▁# I CC 2017 ▁ xxbos ▁Nienawidzę ▁kiedy ▁ktoś ▁chra pie . ▁Jeszcze ▁jak ▁zacznie ▁tak ▁głośno ▁to ▁kurwicy ▁dostaję ▁ xxbos ▁ @anonymized_account ▁ @anonymized_account ▁Wiadomo ▁o ▁co ▁im ▁chodzilo , ▁o</th>\n",
       "  </tr>\n",
       "  <tr>\n",
       "    <th>1</th>\n",
       "    <th>▁osobami , ▁love ▁it ▁ xxbos ▁ @anonymized_account ▁wiem , ▁szanuje ▁to , ▁że ▁np . ▁ktoś ▁woli ▁słuchać ▁np . ▁tylko ▁Nialla ▁i ▁nie ▁musi ▁podobać ▁mu ▁się ▁reszta ▁ xxbos ▁ @anonymized_account ▁Powinni ▁!! ▁ xxbos ▁sk ryty kowa l * ▁+ to ▁je szcz w ▁obraz il ▁takiego ▁o ana , ▁kto ey ▁byl ▁umie s niony , ▁dojrze , ▁ze ▁najebany ▁w ▁3 ▁du o y</th>\n",
       "  </tr>\n",
       "  <tr>\n",
       "    <th>2</th>\n",
       "    <th>▁jedzenia ▁i ▁raczej ▁nie ▁moge ▁jeść ▁juz ▁tak ▁tłu stych ▁potra w ▁ xxbos ▁ @anonymized_account ▁Mi ▁nawet ▁się ▁nie ▁opłaca ▁jeździć ▁do ▁przyjaciółki ▁bez ▁noc owania . ▁Ki lom etry ▁s są ▁ xxbos ▁Panowie , ▁ja ▁rozumiem ▁przegry wać , ▁ale ▁żeby ▁3:1 2 ? ▁ xxbos ▁I ▁nie ▁do puszcza lam ▁myśli ▁że ▁ona ▁jednak ▁nie ▁przyjedzie ▁ xxbos ▁Ale ▁United ▁z ▁Manchester u ▁ma ▁chuj owych</th>\n",
       "  </tr>\n",
       "  <tr>\n",
       "    <th>3</th>\n",
       "    <th>▁nocy ▁ xxbos ▁ @anonymized_account ▁ @anonymized_account ▁to ▁z ▁innej ▁strony ▁zapytam ▁- ▁uważasz , ▁że ▁Lech ▁zagrał ▁dobrą ▁drugą ▁połowę ? ▁ xxbos ▁ @anonymized_account ▁nikt ▁go ▁nie ▁urodził ▁znaleźli ▁go ▁w ▁kapu ście ▁ xxbos ▁dajcie ▁mi ▁jakieś ▁fajne ▁ff ▁z ▁piłkarz ami ▁🙏 ▁# fan fi ction ▁ xxbos ▁Sta raj ▁się ▁być ▁dobrym ▁człowiekiem . ▁Znaczy ▁możesz ▁czasem ▁komuś ▁pod kra ść ▁kawałek ▁pizzy . ▁Ale</th>\n",
       "  </tr>\n",
       "  <tr>\n",
       "    <th>4</th>\n",
       "    <th>▁z ▁tej ▁strony ▁na ▁to ▁patrzą . ▁ xxbos ▁gdzie ▁moj ▁okres ▁ xxbos ▁2 ▁godziny ▁26 ▁minut ▁ xxbos ▁\" My śli wi ▁w ▁Polsce ▁uch wali li ▁sobie ▁prawo , ▁które ▁pozwala ▁im ▁bezkarnie ▁mor dować ▁li sie ▁dzieci .\" ▁Moje ▁pytanie ▁brzmi : ▁po ▁chuj ? ▁ xxbos ▁Podobno ▁Paweł ▁nawet ▁nagrał ▁do ▁v loga ▁moment , ▁jak ▁pod pisuje ▁mi ▁zdjęcie , ▁aww ▁💞 ▁ xxbos</th>\n",
       "  </tr>\n",
       "</table>\n"
      ],
      "text/plain": [
       "<IPython.core.display.HTML object>"
      ]
     },
     "metadata": {},
     "output_type": "display_data"
    }
   ],
   "source": [
    "data_lm.show_batch()"
   ]
  },
  {
   "cell_type": "code",
   "execution_count": null,
   "metadata": {},
   "outputs": [],
   "source": []
  },
  {
   "cell_type": "code",
   "execution_count": 32,
   "metadata": {},
   "outputs": [],
   "source": [
    "one_batch_x = next(iter(data_lm.train_dl))[0].cpu()"
   ]
  },
  {
   "cell_type": "code",
   "execution_count": 35,
   "metadata": {
    "scrolled": false
   },
   "outputs": [
    {
     "name": "stdout",
     "output_type": "stream",
     "text": [
      "▁ustaw|kach|▁nadal|▁wie|rzymy|▁oo|ps|▁|xxbos|▁Szuka|łam|▁jakiś|▁fajnych|▁ff|▁na|▁wattpadzie|▁ale|▁wszystkie|▁są|▁podobne|▁do|▁siebie|▁i|▁chyba|▁zacznę|▁czytać|▁od|▁nowa|▁moje|▁ulubione|▁ff|▁XD|▁XD|▁|xxbos|▁Chciałabym|▁kiedyś|▁zobaczyć|▁To|k|yo|...|▁|xxbos|▁Ba|dzona|▁|xxbos|▁Chcę|▁być|▁chłop|cem|▁|xxbos|▁Ho|ra|▁T|in|kie|-|W|in|kie|▁|xxbos|▁|@anonymized_account|▁|@anonymized_account|▁Jak\n",
      "\n",
      "\n",
      "▁Jak|▁ja|▁bym|▁miała|▁pisać|▁ff|▁na|▁wattpadzie|▁to|▁byłby|▁to|▁kabaret|▁nad|▁kabaret|ami|▁|xxbos|▁Kopacz|▁mówi|,|▁że|▁już|▁nie|▁będzie|▁odpowiadać|▁na|▁pytania|▁o|▁#|S|mo|len|sk|▁bo|▁jej|▁się|▁nie|▁chce|.|▁Racja|.|▁Pora|▁skończyć|▁rozmowy|.|▁Czas|▁na|▁Trybunał|▁Stanu|.|▁|xxbos|▁|@anonymized_account|▁Real|ly|▁ja|▁może|▁jak|▁pojadę|▁to|▁tez|▁wezmę|▁ale|▁jest|▁promocja|▁na|▁necie|▁|xxbos\n",
      "\n",
      "\n",
      "c|▁ze|▁chodzi|▁mi|▁o|▁ruska|▁|xxbos|▁ciekawe|▁jak|▁to|▁jest|▁nie|▁mieć|▁peł|nego|▁chino|li|▁tl|▁|xxbos|▁Chyba|▁sie|▁przet|re|nowa|lam|😥|▁|xxbos|▁|@anonymized_account|▁nadal|▁czekam|▁na|▁coś|▁lepszego|▁i|▁chyba|▁się|▁nie|▁doczekam|▁😫|▁|xxbos|▁|@anonymized_account|▁Ale|▁Em|re|▁Mora|▁to|▁ja|▁szanuję|,|▁chłopak|▁z|▁super|▁potencja|łem|,|▁oby|▁gdzieś|▁poszedł|▁gdzie|▁będzie|▁grał|.|▁|xxbos\n",
      "\n",
      "\n"
     ]
    }
   ],
   "source": [
    "for line in one_batch_x[:3]:\n",
    "    print('|'.join([vocab.itos[x] for x in line]))\n",
    "    print('\\n')"
   ]
  },
  {
   "cell_type": "code",
   "execution_count": null,
   "metadata": {},
   "outputs": [],
   "source": []
  },
  {
   "cell_type": "code",
   "execution_count": null,
   "metadata": {},
   "outputs": [],
   "source": []
  },
  {
   "cell_type": "code",
   "execution_count": 37,
   "metadata": {},
   "outputs": [],
   "source": [
    "PAD_TOKEN_ID = vocab.stoi[PAD]"
   ]
  },
  {
   "cell_type": "code",
   "execution_count": null,
   "metadata": {},
   "outputs": [],
   "source": []
  },
  {
   "cell_type": "code",
   "execution_count": 39,
   "metadata": {},
   "outputs": [],
   "source": [
    "config = {\n",
    "    'type': 'Poleval1',\n",
    "    'params': {\n",
    "        'dataset_path': '/home/tomasz/nlp/poleval/csv/',\n",
    "        'encoder_subdir': 'encoder_wiki_orig',\n",
    "        'training_phases': [],\n",
    "        'aggregation_class': 'SimpleAttention',\n",
    "        'aggregation_params': {},\n",
    "        'calc_test_score': True,\n",
    "        'cv_fold_num': 0,\n",
    "        'drop_mult': 1.,\n",
    "#         'train_set_fraction': 0.01,\n",
    "        'rnn_output_layers': [-1],\n",
    "        'bidir': False,\n",
    "        'max_len': 70*20,\n",
    "        'bs': 80,\n",
    "        'metrics': ['accuracy', 'f1']\n",
    "    }\n",
    "}"
   ]
  },
  {
   "cell_type": "code",
   "execution_count": 40,
   "metadata": {},
   "outputs": [],
   "source": [
    "ex = experiments.ExperimentCls.factory(config['type'], config['params'])"
   ]
  },
  {
   "cell_type": "code",
   "execution_count": 50,
   "metadata": {},
   "outputs": [],
   "source": [
    "# dfs = ex.get_dfs()"
   ]
  },
  {
   "cell_type": "code",
   "execution_count": 49,
   "metadata": {},
   "outputs": [],
   "source": [
    "# data_cls = TextClasDataBunch.from_df(csv_dir/'cls', *dfs, tokenizer=tok, vocab=vocab, bs=40, text_cols=[1])"
   ]
  },
  {
   "cell_type": "code",
   "execution_count": null,
   "metadata": {},
   "outputs": [],
   "source": []
  },
  {
   "cell_type": "code",
   "execution_count": 48,
   "metadata": {},
   "outputs": [],
   "source": [
    "# data_cls.show_batch(10)"
   ]
  },
  {
   "cell_type": "code",
   "execution_count": null,
   "metadata": {},
   "outputs": [],
   "source": []
  },
  {
   "cell_type": "code",
   "execution_count": 51,
   "metadata": {},
   "outputs": [],
   "source": [
    "trn_args = dict(tie_weights=True, clip=ex.clip, bptt=ex.bptt,\n",
    "                alpha=ex.rnn_alpha, beta=ex.rnn_beta)\n",
    "learn = language_model_learner(data_lm, emb_sz=ex.emb_sz, nh=ex.nh, nl=ex.nl, pad_token=PAD_TOKEN_ID,\n",
    "                   bias=True, model_dir=model_dir, **trn_args)"
   ]
  },
  {
   "cell_type": "code",
   "execution_count": 52,
   "metadata": {},
   "outputs": [],
   "source": [
    "learn.opt_fn = partial(optim.Adam, betas=(0.8, 0.99))"
   ]
  },
  {
   "cell_type": "code",
   "execution_count": 53,
   "metadata": {},
   "outputs": [
    {
     "data": {
      "text/html": [],
      "text/plain": [
       "<IPython.core.display.HTML object>"
      ]
     },
     "metadata": {},
     "output_type": "display_data"
    },
    {
     "name": "stdout",
     "output_type": "stream",
     "text": [
      "LR Finder is complete, type {learner_name}.recorder.plot() to see the graph.\n"
     ]
    }
   ],
   "source": [
    "learn.lr_find()"
   ]
  },
  {
   "cell_type": "code",
   "execution_count": 54,
   "metadata": {
    "scrolled": true
   },
   "outputs": [
    {
     "data": {
      "image/png": "[encoded data removed]",
      "text/plain": [
       "<Figure size 432x288 with 1 Axes>"
      ]
     },
     "metadata": {
      "needs_background": "light"
     },
     "output_type": "display_data"
    }
   ],
   "source": [
    "learn.recorder.plot()"
   ]
  },
  {
   "cell_type": "code",
   "execution_count": 55,
   "metadata": {},
   "outputs": [
    {
     "data": {
      "text/html": [
       "Total time: 1:48:57 <p><table border=\"1\" class=\"dataframe\">\n",
       "  <thead>\n",
       "    <tr style=\"text-align: left;\">\n",
       "      <th>epoch</th>\n",
       "      <th>train_loss</th>\n",
       "      <th>valid_loss</th>\n",
       "      <th>accuracy</th>\n",
       "    </tr>\n",
       "  </thead>\n",
       "  <tbody>\n",
       "    <tr>\n",
       "      <td>1</td>\n",
       "      <td>5.572872</td>\n",
       "      <td>5.409397</td>\n",
       "      <td>0.249831</td>\n",
       "    </tr>\n",
       "    <tr>\n",
       "      <td>2</td>\n",
       "      <td>5.829891</td>\n",
       "      <td>5.628707</td>\n",
       "      <td>0.241585</td>\n",
       "    </tr>\n",
       "    <tr>\n",
       "      <td>3</td>\n",
       "      <td>6.506228</td>\n",
       "      <td>6.274928</td>\n",
       "      <td>0.209936</td>\n",
       "    </tr>\n",
       "    <tr>\n",
       "      <td>4</td>\n",
       "      <td>8.761814</td>\n",
       "      <td>8.483144</td>\n",
       "      <td>0.098251</td>\n",
       "    </tr>\n",
       "    <tr>\n",
       "      <td>5</td>\n",
       "      <td>7.801270</td>\n",
       "      <td>7.691049</td>\n",
       "      <td>0.098251</td>\n",
       "    </tr>\n",
       "    <tr>\n",
       "      <td>6</td>\n",
       "      <td>7.613676</td>\n",
       "      <td>7.625049</td>\n",
       "      <td>0.098251</td>\n",
       "    </tr>\n",
       "    <tr>\n",
       "      <td>7</td>\n",
       "      <td>6.997140</td>\n",
       "      <td>6.846488</td>\n",
       "      <td>0.151318</td>\n",
       "    </tr>\n",
       "    <tr>\n",
       "      <td>8</td>\n",
       "      <td>6.934649</td>\n",
       "      <td>6.763303</td>\n",
       "      <td>0.151318</td>\n",
       "    </tr>\n",
       "    <tr>\n",
       "      <td>9</td>\n",
       "      <td>6.512422</td>\n",
       "      <td>6.342163</td>\n",
       "      <td>0.205876</td>\n",
       "    </tr>\n",
       "    <tr>\n",
       "      <td>10</td>\n",
       "      <td>6.311691</td>\n",
       "      <td>6.134712</td>\n",
       "      <td>0.212033</td>\n",
       "    </tr>\n",
       "  </tbody>\n",
       "</table>"
      ],
      "text/plain": [
       "<IPython.core.display.HTML object>"
      ]
     },
     "metadata": {},
     "output_type": "display_data"
    }
   ],
   "source": [
    "learn.fit_one_cycle(10, 5e-2)"
   ]
  },
  {
   "cell_type": "code",
   "execution_count": 56,
   "metadata": {},
   "outputs": [],
   "source": [
    "learn.save('basic_adam_10ep_5e-2')"
   ]
  },
  {
   "cell_type": "code",
   "execution_count": 57,
   "metadata": {},
   "outputs": [],
   "source": [
    "learn = language_model_learner(data_lm, emb_sz=ex.emb_sz, nh=ex.nh, nl=ex.nl, pad_token=PAD_TOKEN_ID,\n",
    "                   bias=True, model_dir=model_dir, **trn_args)\n",
    "learn.opt_fn = partial(optim.Adam, betas=(0.8, 0.99))"
   ]
  },
  {
   "cell_type": "code",
   "execution_count": 58,
   "metadata": {},
   "outputs": [
    {
     "data": {
      "text/html": [
       "Total time: 1:48:56 <p><table border=\"1\" class=\"dataframe\">\n",
       "  <thead>\n",
       "    <tr style=\"text-align: left;\">\n",
       "      <th>epoch</th>\n",
       "      <th>train_loss</th>\n",
       "      <th>valid_loss</th>\n",
       "      <th>accuracy</th>\n",
       "    </tr>\n",
       "  </thead>\n",
       "  <tbody>\n",
       "    <tr>\n",
       "      <td>1</td>\n",
       "      <td>5.356325</td>\n",
       "      <td>5.239298</td>\n",
       "      <td>0.265918</td>\n",
       "    </tr>\n",
       "    <tr>\n",
       "      <td>2</td>\n",
       "      <td>5.234948</td>\n",
       "      <td>5.067109</td>\n",
       "      <td>0.275440</td>\n",
       "    </tr>\n",
       "    <tr>\n",
       "      <td>3</td>\n",
       "      <td>5.241044</td>\n",
       "      <td>5.041462</td>\n",
       "      <td>0.277699</td>\n",
       "    </tr>\n",
       "    <tr>\n",
       "      <td>4</td>\n",
       "      <td>5.170805</td>\n",
       "      <td>4.983857</td>\n",
       "      <td>0.282175</td>\n",
       "    </tr>\n",
       "    <tr>\n",
       "      <td>5</td>\n",
       "      <td>5.109036</td>\n",
       "      <td>4.929780</td>\n",
       "      <td>0.286854</td>\n",
       "    </tr>\n",
       "    <tr>\n",
       "      <td>6</td>\n",
       "      <td>5.013426</td>\n",
       "      <td>4.867586</td>\n",
       "      <td>0.291674</td>\n",
       "    </tr>\n",
       "    <tr>\n",
       "      <td>7</td>\n",
       "      <td>4.959431</td>\n",
       "      <td>4.808201</td>\n",
       "      <td>0.296928</td>\n",
       "    </tr>\n",
       "    <tr>\n",
       "      <td>8</td>\n",
       "      <td>4.873831</td>\n",
       "      <td>4.762139</td>\n",
       "      <td>0.300815</td>\n",
       "    </tr>\n",
       "    <tr>\n",
       "      <td>9</td>\n",
       "      <td>4.814911</td>\n",
       "      <td>4.736620</td>\n",
       "      <td>0.303149</td>\n",
       "    </tr>\n",
       "    <tr>\n",
       "      <td>10</td>\n",
       "      <td>4.778783</td>\n",
       "      <td>4.732564</td>\n",
       "      <td>0.303662</td>\n",
       "    </tr>\n",
       "  </tbody>\n",
       "</table>"
      ],
      "text/plain": [
       "<IPython.core.display.HTML object>"
      ]
     },
     "metadata": {},
     "output_type": "display_data"
    }
   ],
   "source": [
    "learn.fit_one_cycle(10, 1e-2, (0.8, 0.7), wd=1e-7)"
   ]
  },
  {
   "cell_type": "code",
   "execution_count": 59,
   "metadata": {},
   "outputs": [],
   "source": [
    "learn.save('basic_adam_ulmfit_moms_10ep_nowd_1e-2')"
   ]
  },
  {
   "cell_type": "code",
   "execution_count": 60,
   "metadata": {},
   "outputs": [],
   "source": [
    "learn.save_encoder('basic_adam_ulmfit_moms_10ep_nowd_1e-2')"
   ]
  },
  {
   "cell_type": "markdown",
   "metadata": {},
   "source": [
    "## using this second version, as 'encoder_tweets_spm_basic'"
   ]
  },
  {
   "cell_type": "code",
   "execution_count": null,
   "metadata": {},
   "outputs": [],
   "source": []
  },
  {
   "cell_type": "code",
   "execution_count": null,
   "metadata": {},
   "outputs": [],
   "source": []
  },
  {
   "cell_type": "code",
   "execution_count": null,
   "metadata": {},
   "outputs": [],
   "source": []
  },
  {
   "cell_type": "code",
   "execution_count": null,
   "metadata": {},
   "outputs": [],
   "source": []
  },
  {
   "cell_type": "code",
   "execution_count": null,
   "metadata": {},
   "outputs": [],
   "source": []
  }
 ],
 "metadata": {
  "kernelspec": {
   "display_name": "fastai-dev",
   "language": "python",
   "name": "fastai-dev"
  },
  "language_info": {
   "codemirror_mode": {
    "name": "ipython",
    "version": 3
   },
   "file_extension": ".py",
   "mimetype": "text/x-python",
   "name": "python",
   "nbconvert_exporter": "python",
   "pygments_lexer": "ipython3",
   "version": "3.6.8"
  }
 },
 "nbformat": 4,
 "nbformat_minor": 2
}
