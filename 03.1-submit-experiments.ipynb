{
 "cells": [
  {
   "cell_type": "markdown",
   "metadata": {},
   "source": [
    "# Submit an experiment config to a queue to be run"
   ]
  },
  {
   "cell_type": "code",
   "execution_count": 1,
   "metadata": {},
   "outputs": [],
   "source": [
    "%reload_ext autoreload\n",
    "%autoreload 2"
   ]
  },
  {
   "cell_type": "code",
   "execution_count": 2,
   "metadata": {},
   "outputs": [],
   "source": [
    "from fastai import *\n",
    "from fastai.text import *\n",
    "import pdb"
   ]
  },
  {
   "cell_type": "code",
   "execution_count": 3,
   "metadata": {
    "scrolled": false
   },
   "outputs": [],
   "source": [
    "import ulmfit_experiments.experiments as experiments\n",
    "import ulmfit_experiments.classifiers as classifiers\n",
    "import ulmfit_experiments.sequence_aggregations as sequence_aggregations\n",
    "from ulmfit_experiments.experiments import * \n",
    "from ulmfit_experiments.runner import MongoExperimentRunner"
   ]
  },
  {
   "cell_type": "code",
   "execution_count": null,
   "metadata": {},
   "outputs": [],
   "source": []
  },
  {
   "cell_type": "code",
   "execution_count": 4,
   "metadata": {},
   "outputs": [],
   "source": [
    "runner = MongoExperimentRunner(ExperimentCls.factory, '/home/tomasz/nlp/trained_models/')"
   ]
  },
  {
   "cell_type": "code",
   "execution_count": 50,
   "metadata": {},
   "outputs": [
    {
     "data": {
      "text/plain": [
       "<pymongo.results.InsertOneResult at 0x7fff4e218e08>"
      ]
     },
     "execution_count": 50,
     "metadata": {},
     "output_type": "execute_result"
    }
   ],
   "source": [
    "phases = [{'freeze_to': -1, 'cyc_len': 1, 'lr_max_last': 1e-2},\n",
    "    {'freeze_to': -2, 'cyc_len': 1, 'lr_max_last': 1e-2},\n",
    "    {'freeze_to': -3, 'cyc_len': 1, 'lr_max_last': 5e-3},\n",
    "    {'freeze_to': -6, 'cyc_len': 10, 'lr_max_last': 1e-3}]\n",
    "config = {\n",
    "    'type': 'Poleval1',\n",
    "    'params': {\n",
    "        'dataset_path': '/home/tomasz/nlp/poleval/csv/',\n",
    "        'encoder_subdir': 'encoder_tweets_spm_basic',\n",
    "        'training_phases': phases,\n",
    "        'aggregation_class': 'BranchingAttentionAggregation',\n",
    "        'aggregation_params': {'att_hid_layers': [50], 'att_dropouts': 0.2, 'agg_dim': 50},\n",
    "        'cv_fold_num': 0,\n",
    "        'drop_mult': .5,\n",
    "#         'train_set_fraction': 0.01,\n",
    "        'rnn_output_layers': [-1],\n",
    "        'bidir': False,\n",
    "        'max_len': 70*20,\n",
    "        'bs': 80,\n",
    "        'metrics': ['accuracy', 'f1'],\n",
    "        'callbacks': ['average_precision_score'],\n",
    "        'calc_test_score': False\n",
    "    }\n",
    "}\n",
    "\n",
    "runner.submit_job(config)"
   ]
  },
  {
   "cell_type": "code",
   "execution_count": null,
   "metadata": {},
   "outputs": [],
   "source": []
  },
  {
   "cell_type": "code",
   "execution_count": null,
   "metadata": {},
   "outputs": [],
   "source": []
  },
  {
   "cell_type": "code",
   "execution_count": 9,
   "metadata": {},
   "outputs": [],
   "source": [
    "ex = experiments.ExperimentCls.factory('Poleval1', config['params'])"
   ]
  },
  {
   "cell_type": "code",
   "execution_count": 11,
   "metadata": {
    "scrolled": false
   },
   "outputs": [],
   "source": [
    "# results, learn = ex.run()"
   ]
  },
  {
   "cell_type": "code",
   "execution_count": null,
   "metadata": {},
   "outputs": [],
   "source": []
  },
  {
   "cell_type": "markdown",
   "metadata": {},
   "source": [
    "# Re-running experiments with modified params"
   ]
  },
  {
   "cell_type": "code",
   "execution_count": 8,
   "metadata": {},
   "outputs": [],
   "source": [
    "db = runner._get_db()"
   ]
  },
  {
   "cell_type": "code",
   "execution_count": 30,
   "metadata": {},
   "outputs": [],
   "source": [
    "source_id = 83"
   ]
  },
  {
   "cell_type": "code",
   "execution_count": 31,
   "metadata": {},
   "outputs": [],
   "source": [
    "source_config = db[runner.completed_collection].find_one(source_id)"
   ]
  },
  {
   "cell_type": "code",
   "execution_count": 32,
   "metadata": {},
   "outputs": [],
   "source": [
    "c = {}\n",
    "c['type'] = source_config['type']\n",
    "c['params'] = source_config['params']"
   ]
  },
  {
   "cell_type": "code",
   "execution_count": 33,
   "metadata": {},
   "outputs": [],
   "source": [
    "for f in range(1, 5):\n",
    "    c['params']['cv_fold_num'] = f\n",
    "    runner.submit_job(c)"
   ]
  },
  {
   "cell_type": "code",
   "execution_count": null,
   "metadata": {},
   "outputs": [],
   "source": []
  },
  {
   "cell_type": "markdown",
   "metadata": {},
   "source": [
    "## From failed"
   ]
  },
  {
   "cell_type": "code",
   "execution_count": 35,
   "metadata": {},
   "outputs": [],
   "source": [
    "# for source_id in range(7, 12):\n",
    "#     source_config = db[runner.failed_collection].find_one(source_id)\n",
    "#     c = {}\n",
    "#     c['type'] = source_config['type']\n",
    "#     c['params'] = source_config['params']\n",
    "#     c['params']['max_len'] = 700\n",
    "#     runner.submit_job(c)"
   ]
  },
  {
   "cell_type": "code",
   "execution_count": null,
   "metadata": {},
   "outputs": [],
   "source": []
  },
  {
   "cell_type": "code",
   "execution_count": null,
   "metadata": {},
   "outputs": [],
   "source": []
  },
  {
   "cell_type": "code",
   "execution_count": null,
   "metadata": {},
   "outputs": [],
   "source": []
  },
  {
   "cell_type": "code",
   "execution_count": null,
   "metadata": {},
   "outputs": [],
   "source": []
  },
  {
   "cell_type": "code",
   "execution_count": null,
   "metadata": {},
   "outputs": [],
   "source": []
  },
  {
   "cell_type": "code",
   "execution_count": null,
   "metadata": {},
   "outputs": [],
   "source": []
  },
  {
   "cell_type": "code",
   "execution_count": null,
   "metadata": {},
   "outputs": [],
   "source": []
  },
  {
   "cell_type": "code",
   "execution_count": null,
   "metadata": {},
   "outputs": [],
   "source": []
  },
  {
   "cell_type": "code",
   "execution_count": null,
   "metadata": {},
   "outputs": [],
   "source": []
  },
  {
   "cell_type": "code",
   "execution_count": null,
   "metadata": {},
   "outputs": [],
   "source": []
  },
  {
   "cell_type": "code",
   "execution_count": null,
   "metadata": {},
   "outputs": [],
   "source": []
  }
 ],
 "metadata": {
  "kernelspec": {
   "display_name": "fastai-dev",
   "language": "python",
   "name": "fastai-dev"
  },
  "language_info": {
   "codemirror_mode": {
    "name": "ipython",
    "version": 3
   },
   "file_extension": ".py",
   "mimetype": "text/x-python",
   "name": "python",
   "nbconvert_exporter": "python",
   "pygments_lexer": "ipython3",
   "version": "3.6.8"
  }
 },
 "nbformat": 4,
 "nbformat_minor": 2
}
