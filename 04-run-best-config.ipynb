{
 "cells": [
  {
   "cell_type": "markdown",
   "metadata": {},
   "source": [
    "# Best config params were chosen, now running it 5 times with different subsets of train set as validation set"
   ]
  },
  {
   "cell_type": "code",
   "execution_count": 1,
   "metadata": {},
   "outputs": [],
   "source": [
    "from fastai.text import * "
   ]
  },
  {
   "cell_type": "code",
   "execution_count": 2,
   "metadata": {},
   "outputs": [],
   "source": [
    "from ulmfit_experiments import experiments\n",
    "from ulmfit_experiments import sentencepiece_tok as spm\n",
    "from ulmfit_experiments.runner import MongoExperimentRunner\n",
    "from sklearn.metrics import *"
   ]
  },
  {
   "cell_type": "code",
   "execution_count": 3,
   "metadata": {},
   "outputs": [],
   "source": [
    "torch.manual_seed(0)\n",
    "torch.backends.cudnn.deterministic = True\n",
    "torch.backends.cudnn.benchmark = False\n",
    "np.random.seed(0)"
   ]
  },
  {
   "cell_type": "code",
   "execution_count": 4,
   "metadata": {},
   "outputs": [],
   "source": [
    "runner = MongoExperimentRunner(experiments.ExperimentCls.factory, '/home/tomasz/nlp/trained_models/')"
   ]
  },
  {
   "cell_type": "code",
   "execution_count": 5,
   "metadata": {},
   "outputs": [],
   "source": [
    "db = runner._get_db()"
   ]
  },
  {
   "cell_type": "code",
   "execution_count": 6,
   "metadata": {},
   "outputs": [],
   "source": [
    "source_id = 137"
   ]
  },
  {
   "cell_type": "code",
   "execution_count": 7,
   "metadata": {},
   "outputs": [],
   "source": [
    "source_config = db[runner.completed_collection].find_one(source_id)"
   ]
  },
  {
   "cell_type": "code",
   "execution_count": 8,
   "metadata": {},
   "outputs": [],
   "source": [
    "c = {'type': deepcopy(source_config['type']), 'params': deepcopy(source_config['params'])}"
   ]
  },
  {
   "cell_type": "code",
   "execution_count": 9,
   "metadata": {},
   "outputs": [
    {
     "data": {
      "text/plain": [
       "{'type': 'Poleval1',\n",
       " 'params': {'dataset_path': '/home/tomasz/nlp/poleval/csv/',\n",
       "  'encoder_subdir': 'encoder_tweets_spm_basic',\n",
       "  'training_phases': [{'freeze_to': -1, 'cyc_len': 1, 'lr_max_last': 0.01},\n",
       "   {'freeze_to': -2, 'cyc_len': 1, 'lr_max_last': 0.01},\n",
       "   {'freeze_to': -3, 'cyc_len': 1, 'lr_max_last': 0.005},\n",
       "   {'freeze_to': -6, 'cyc_len': 10, 'lr_max_last': 0.001}],\n",
       "  'aggregation_class': 'BranchingAttentionAggregation',\n",
       "  'aggregation_params': {'att_hid_layers': [50],\n",
       "   'att_dropouts': 0.2,\n",
       "   'agg_dim': 50},\n",
       "  'cv_fold_num': 0,\n",
       "  'drop_mult': 0.5,\n",
       "  'rnn_output_layers': [-1],\n",
       "  'bidir': False,\n",
       "  'max_len': 1400,\n",
       "  'bs': 80,\n",
       "  'metrics': ['accuracy', 'f1'],\n",
       "  'callbacks': ['average_precision_score'],\n",
       "  'calc_test_score': False}}"
      ]
     },
     "execution_count": 9,
     "metadata": {},
     "output_type": "execute_result"
    }
   ],
   "source": [
    "c"
   ]
  },
  {
   "cell_type": "code",
   "execution_count": 10,
   "metadata": {},
   "outputs": [],
   "source": [
    "# ex = experiments.ExperimentCls.factory(c['type'], c['params'])"
   ]
  },
  {
   "cell_type": "code",
   "execution_count": 40,
   "metadata": {
    "scrolled": false
   },
   "outputs": [],
   "source": [
    "# results, learn = ex.run()"
   ]
  },
  {
   "cell_type": "code",
   "execution_count": null,
   "metadata": {},
   "outputs": [],
   "source": []
  },
  {
   "cell_type": "code",
   "execution_count": 46,
   "metadata": {
    "scrolled": false
   },
   "outputs": [
    {
     "name": "stdout",
     "output_type": "stream",
     "text": [
      "0.5211726384364821\n"
     ]
    }
   ],
   "source": [
    "for fold in range(1, 5): \n",
    "    print('fold ' +  str(fold))\n",
    "    c = {'type': deepcopy(source_config['type']), 'params': deepcopy(source_config['params'])}\n",
    "    c['params']['cv_fold_num'] = fold\n",
    "    ex = experiments.ExperimentCls.factory(c['type'], c['params'])\n",
    "    results, learn = ex.run()\n",
    "    learn.save('poleval-submission-'+str(fold))\n",
    "    \n",
    "    preds = learn.get_preds(DatasetType.Valid, ordered=True)\n",
    "    dfs = ex.get_dfs(fold)\n",
    "    target = dfs[1][ex.label_col]\n",
    "    predicted_proba = preds[0][:, 1].numpy()\n",
    "    fscores = pd.Series({t: f1_score(target, predicted_proba > t) for t in np.arange(0.01,0.99, 0.01)})\n",
    "    fscores.to_csv(f'/home/tomasz/nlp/poleval/submission/fold{fold}-valid-fscores.csv')\n",
    "    \n",
    "    preds = learn.get_preds(DatasetType.Test, ordered=True)\n",
    "    predicted_proba = preds[0][:, 1].numpy()\n",
    "    pd.Series(predicted_proba).to_csv(f'/home/tomasz/nlp/poleval/submission/fold{fold}-probas.csv')\n"
   ]
  },
  {
   "cell_type": "code",
   "execution_count": null,
   "metadata": {},
   "outputs": [],
   "source": []
  },
  {
   "cell_type": "code",
   "execution_count": null,
   "metadata": {},
   "outputs": [],
   "source": []
  }
 ],
 "metadata": {
  "kernelspec": {
   "display_name": "fastai-dev",
   "language": "python",
   "name": "fastai-dev"
  },
  "language_info": {
   "codemirror_mode": {
    "name": "ipython",
    "version": 3
   },
   "file_extension": ".py",
   "mimetype": "text/x-python",
   "name": "python",
   "nbconvert_exporter": "python",
   "pygments_lexer": "ipython3",
   "version": "3.6.8"
  }
 },
 "nbformat": 4,
 "nbformat_minor": 2
}
